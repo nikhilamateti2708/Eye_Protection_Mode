{
 "cells": [
  {
   "cell_type": "code",
   "execution_count": 1,
   "metadata": {},
   "outputs": [],
   "source": [
    "import numpy as np\n",
    "import time\n",
    "import cv2\n",
    "import argparse\n",
    "import ctypes\n",
    "\n",
    "# Construct the argument parser and parse the arguments\n",
    "ap = argparse.ArgumentParser()\n",
    "ap.add_argument(\"-face_height\", type=int, default=300, help=\"height of the face in pixels\")\n",
    "ap.add_argument(\"-distance\", type=float, default=0.51, help=\"show warning after if less than that distance in meters\")\n",
    "args = vars(ap)\n",
    "\n",
    "cap = cv2.VideoCapture(0)\n",
    "\n",
    "face_cascade = cv2.CascadeClassifier(cv2.data.haarcascades + 'haarcascade_frontalface_default.xml')\n",
    "\n",
    "try:\n",
    "    while(True):\n",
    "    # Capture frame-by-frame\n",
    "        _, frame = cap.read()\n",
    "        last_time = time.time()\n",
    "\n",
    "        gray = cv2.cvtColor(frame, cv2.COLOR_BGR2GRAY)\n",
    "        faces = face_cascade.detectMultiScale(gray, 1.1, 5)\n",
    "    \n",
    "        for (x,y,w,h) in faces:\n",
    "            cv2.rectangle(frame,(x,y),(x+w,y+h),(255,0,0),2)\n",
    "            known_height = args['_option_string_actions']['-face_height'].default\n",
    "            distance = known_height/h*args['_option_string_actions']['-distance'].default\n",
    "            if distance < args['_option_string_actions']['-distance'].default:\n",
    "            # If we are too close - send warning\n",
    "                ctypes.windll.user32.LockWorkStation()\n",
    "\n",
    "    # Display the resulting frame\n",
    "        cv2.imshow('frame', frame)\n",
    "        if cv2.waitKey(1) & 0xFF == ord('q'):\n",
    "            break\n",
    "\n",
    "except KeyboardInterrupt:\n",
    "    # Handle keyboard interrupt (Ctrl+C)\n",
    "    pass\n",
    "\n",
    "finally:\n",
    "    # Release the capture and close OpenCV windows\n",
    "    cap.release()\n",
    "    cv2.destroyAllWindows()\n"
   ]
  }
 ],
 "metadata": {
  "kernelspec": {
   "display_name": "Python 3 (ipykernel)",
   "language": "python",
   "name": "python3"
  },
  "language_info": {
   "codemirror_mode": {
    "name": "ipython",
    "version": 3
   },
   "file_extension": ".py",
   "mimetype": "text/x-python",
   "name": "python",
   "nbconvert_exporter": "python",
   "pygments_lexer": "ipython3",
   "version": "3.9.7"
  }
 },
 "nbformat": 4,
 "nbformat_minor": 4
}
